{
 "cells": [
  {
   "cell_type": "markdown",
   "metadata": {},
   "source": [
    "# Data Scientist Screening Exercise - Arturo Rodriguez "
   ]
  },
  {
   "cell_type": "code",
   "execution_count": 1,
   "metadata": {},
   "outputs": [],
   "source": [
    "#Importing necessary libraries\n",
    "import pandas as pd\n",
    "import numpy as np\n",
    "\n",
    "from sklearn import metrics\n",
    "import matplotlib.pyplot as plt"
   ]
  },
  {
   "cell_type": "code",
   "execution_count": 2,
   "metadata": {},
   "outputs": [],
   "source": [
    "# Importing the dataset\n",
    "# This will only work for the Jupyter notebook if the file 'model_outcome.csv'\n",
    "# is located in the same directory as this notebook\n",
    "\n",
    "df = pd.read_csv('model_outcome.csv')"
   ]
  },
  {
   "cell_type": "code",
   "execution_count": 3,
   "metadata": {},
   "outputs": [
    {
     "data": {
      "text/html": [
       "<div>\n",
       "<style scoped>\n",
       "    .dataframe tbody tr th:only-of-type {\n",
       "        vertical-align: middle;\n",
       "    }\n",
       "\n",
       "    .dataframe tbody tr th {\n",
       "        vertical-align: top;\n",
       "    }\n",
       "\n",
       "    .dataframe thead th {\n",
       "        text-align: right;\n",
       "    }\n",
       "</style>\n",
       "<table border=\"1\" class=\"dataframe\">\n",
       "  <thead>\n",
       "    <tr style=\"text-align: right;\">\n",
       "      <th></th>\n",
       "      <th>index</th>\n",
       "      <th>class</th>\n",
       "      <th>predicted_prob</th>\n",
       "    </tr>\n",
       "  </thead>\n",
       "  <tbody>\n",
       "    <tr>\n",
       "      <th>0</th>\n",
       "      <td>1</td>\n",
       "      <td>0</td>\n",
       "      <td>0.592837</td>\n",
       "    </tr>\n",
       "    <tr>\n",
       "      <th>1</th>\n",
       "      <td>2</td>\n",
       "      <td>1</td>\n",
       "      <td>0.624829</td>\n",
       "    </tr>\n",
       "    <tr>\n",
       "      <th>2</th>\n",
       "      <td>3</td>\n",
       "      <td>0</td>\n",
       "      <td>0.073848</td>\n",
       "    </tr>\n",
       "    <tr>\n",
       "      <th>3</th>\n",
       "      <td>4</td>\n",
       "      <td>1</td>\n",
       "      <td>0.544891</td>\n",
       "    </tr>\n",
       "    <tr>\n",
       "      <th>4</th>\n",
       "      <td>5</td>\n",
       "      <td>0</td>\n",
       "      <td>0.015118</td>\n",
       "    </tr>\n",
       "    <tr>\n",
       "      <th>5</th>\n",
       "      <td>6</td>\n",
       "      <td>0</td>\n",
       "      <td>0.566989</td>\n",
       "    </tr>\n",
       "    <tr>\n",
       "      <th>6</th>\n",
       "      <td>7</td>\n",
       "      <td>1</td>\n",
       "      <td>0.878196</td>\n",
       "    </tr>\n",
       "    <tr>\n",
       "      <th>7</th>\n",
       "      <td>8</td>\n",
       "      <td>1</td>\n",
       "      <td>0.716780</td>\n",
       "    </tr>\n",
       "    <tr>\n",
       "      <th>8</th>\n",
       "      <td>9</td>\n",
       "      <td>0</td>\n",
       "      <td>0.891356</td>\n",
       "    </tr>\n",
       "    <tr>\n",
       "      <th>9</th>\n",
       "      <td>10</td>\n",
       "      <td>0</td>\n",
       "      <td>0.899982</td>\n",
       "    </tr>\n",
       "  </tbody>\n",
       "</table>\n",
       "</div>"
      ],
      "text/plain": [
       "   index  class  predicted_prob\n",
       "0      1      0        0.592837\n",
       "1      2      1        0.624829\n",
       "2      3      0        0.073848\n",
       "3      4      1        0.544891\n",
       "4      5      0        0.015118\n",
       "5      6      0        0.566989\n",
       "6      7      1        0.878196\n",
       "7      8      1        0.716780\n",
       "8      9      0        0.891356\n",
       "9     10      0        0.899982"
      ]
     },
     "execution_count": 3,
     "metadata": {},
     "output_type": "execute_result"
    }
   ],
   "source": [
    "# Let's take a look\n",
    "\n",
    "df.head(10)"
   ]
  },
  {
   "cell_type": "code",
   "execution_count": 4,
   "metadata": {},
   "outputs": [
    {
     "name": "stdout",
     "output_type": "stream",
     "text": [
      "<class 'pandas.core.frame.DataFrame'>\n",
      "RangeIndex: 1000 entries, 0 to 999\n",
      "Data columns (total 3 columns):\n",
      "index             1000 non-null int64\n",
      "class             1000 non-null int64\n",
      "predicted_prob    1000 non-null float64\n",
      "dtypes: float64(1), int64(2)\n",
      "memory usage: 23.5 KB\n"
     ]
    }
   ],
   "source": [
    "df.info()"
   ]
  },
  {
   "cell_type": "code",
   "execution_count": 5,
   "metadata": {},
   "outputs": [
    {
     "data": {
      "text/html": [
       "<div>\n",
       "<style scoped>\n",
       "    .dataframe tbody tr th:only-of-type {\n",
       "        vertical-align: middle;\n",
       "    }\n",
       "\n",
       "    .dataframe tbody tr th {\n",
       "        vertical-align: top;\n",
       "    }\n",
       "\n",
       "    .dataframe thead th {\n",
       "        text-align: right;\n",
       "    }\n",
       "</style>\n",
       "<table border=\"1\" class=\"dataframe\">\n",
       "  <thead>\n",
       "    <tr style=\"text-align: right;\">\n",
       "      <th></th>\n",
       "      <th>index</th>\n",
       "      <th>class</th>\n",
       "      <th>predicted_prob</th>\n",
       "    </tr>\n",
       "  </thead>\n",
       "  <tbody>\n",
       "    <tr>\n",
       "      <th>count</th>\n",
       "      <td>1000.000000</td>\n",
       "      <td>1000.000000</td>\n",
       "      <td>1000.000000</td>\n",
       "    </tr>\n",
       "    <tr>\n",
       "      <th>mean</th>\n",
       "      <td>500.500000</td>\n",
       "      <td>0.492000</td>\n",
       "      <td>0.510150</td>\n",
       "    </tr>\n",
       "    <tr>\n",
       "      <th>std</th>\n",
       "      <td>288.819436</td>\n",
       "      <td>0.500186</td>\n",
       "      <td>0.263700</td>\n",
       "    </tr>\n",
       "    <tr>\n",
       "      <th>min</th>\n",
       "      <td>1.000000</td>\n",
       "      <td>0.000000</td>\n",
       "      <td>0.000967</td>\n",
       "    </tr>\n",
       "    <tr>\n",
       "      <th>25%</th>\n",
       "      <td>250.750000</td>\n",
       "      <td>0.000000</td>\n",
       "      <td>0.313266</td>\n",
       "    </tr>\n",
       "    <tr>\n",
       "      <th>50%</th>\n",
       "      <td>500.500000</td>\n",
       "      <td>0.000000</td>\n",
       "      <td>0.515382</td>\n",
       "    </tr>\n",
       "    <tr>\n",
       "      <th>75%</th>\n",
       "      <td>750.250000</td>\n",
       "      <td>1.000000</td>\n",
       "      <td>0.702314</td>\n",
       "    </tr>\n",
       "    <tr>\n",
       "      <th>max</th>\n",
       "      <td>1000.000000</td>\n",
       "      <td>1.000000</td>\n",
       "      <td>0.994258</td>\n",
       "    </tr>\n",
       "  </tbody>\n",
       "</table>\n",
       "</div>"
      ],
      "text/plain": [
       "             index        class  predicted_prob\n",
       "count  1000.000000  1000.000000     1000.000000\n",
       "mean    500.500000     0.492000        0.510150\n",
       "std     288.819436     0.500186        0.263700\n",
       "min       1.000000     0.000000        0.000967\n",
       "25%     250.750000     0.000000        0.313266\n",
       "50%     500.500000     0.000000        0.515382\n",
       "75%     750.250000     1.000000        0.702314\n",
       "max    1000.000000     1.000000        0.994258"
      ]
     },
     "execution_count": 5,
     "metadata": {},
     "output_type": "execute_result"
    }
   ],
   "source": [
    "df.describe()"
   ]
  },
  {
   "cell_type": "markdown",
   "metadata": {},
   "source": [
    "**1. Manually calculate the sensitivity and specificity of the model, using\n",
    "a predicted_prob threshold of greater than or equal to .5 **"
   ]
  },
  {
   "cell_type": "code",
   "execution_count": 6,
   "metadata": {},
   "outputs": [
    {
     "data": {
      "text/plain": [
       "array([1., 1., 0., 1., 0., 1., 1., 1., 1.])"
      ]
     },
     "execution_count": 6,
     "metadata": {},
     "output_type": "execute_result"
    }
   ],
   "source": [
    "# Converting predicted values into classes using threshold\n",
    "\n",
    "threshold = 0.5\n",
    "\n",
    "predicted_class = np.zeros(df['predicted_prob'].shape)\n",
    "predicted_class[df['predicted_prob'] > threshold] = 1\n",
    "predicted_class[0:9]"
   ]
  },
  {
   "cell_type": "code",
   "execution_count": 7,
   "metadata": {},
   "outputs": [
    {
     "name": "stdout",
     "output_type": "stream",
     "text": [
      "Confusion Matrix : \n",
      " [[385 123]\n",
      " [ 90 402]]\n",
      "Accuracy :  0.787\n",
      "Sensitivity :  0.8170731707317073\n",
      "Specificity :  0.7578740157480315\n"
     ]
    }
   ],
   "source": [
    "# Confusion matrix, Accuracy, sensitivity and specificity\n",
    "from sklearn.metrics import confusion_matrix\n",
    "\n",
    "cm = confusion_matrix(df[['class']],predicted_class)\n",
    "print('Confusion Matrix : \\n', cm)\n",
    "\n",
    "total=sum(sum(cm))\n",
    "# Accuracy is not specifically asked, but it's always good to know\n",
    "# Accuracy = (TN + TP)/Total\n",
    "accuracy=(cm[0,0] + cm[1,1]) / total\n",
    "print ('Accuracy : ', accuracy)\n",
    "\n",
    "# Sensitivity = TP / (TP + FN)\n",
    "sensitivity = cm[1,1]/(cm[1,1]+cm[1,0])\n",
    "print('Sensitivity : ', sensitivity )\n",
    "\n",
    "# Specifity = TN / (FP + TN)\n",
    "specificity = cm[0,0]/(cm[0,1]+cm[0,0])\n",
    "print('Specificity : ', specificity)"
   ]
  },
  {
   "cell_type": "markdown",
   "metadata": {},
   "source": [
    "**Let's manually double check **"
   ]
  },
  {
   "cell_type": "code",
   "execution_count": 8,
   "metadata": {},
   "outputs": [
    {
     "name": "stdout",
     "output_type": "stream",
     "text": [
      "Sensitivity_doublecheck :  0.8170731707317073\n",
      "Specificity_doublecheck :  0.7578740157480315\n"
     ]
    }
   ],
   "source": [
    "# This is computationally more expensive, but it's just for double checking purposes\n",
    "\n",
    "TP = 0\n",
    "FN = 0\n",
    "FP = 0\n",
    "TN = 0\n",
    "\n",
    "\n",
    "for i in range(0,df.shape[0]):\n",
    "    if df.iloc[i]['class'] == predicted_class[i] == 1:\n",
    "        TP += 1\n",
    "    elif df.iloc[i]['class'] == 0 and predicted_class[i] == 1:\n",
    "        FP += 1\n",
    "    elif df.iloc[i]['class'] == predicted_class[i] == 0:\n",
    "        TN += 1        \n",
    "    elif df.iloc[i]['class'] == 1 and predicted_class[i] == 0:\n",
    "        FN += 1\n",
    "\n",
    "# Sensitivity = TP / (TP + FN)\n",
    "sensitivity_doublecheck = TP / (TP + FN)\n",
    "print('Sensitivity_doublecheck : ', sensitivity_doublecheck )\n",
    "\n",
    "# Specifity = TN / (FP + TN)\n",
    "specificity_doublecheck = TN / (FP + TN)\n",
    "print('Specificity_doublecheck : ', specificity_doublecheck)"
   ]
  },
  {
   "cell_type": "markdown",
   "metadata": {},
   "source": [
    "**2. Manually calculate the Area Under the Receiver Operating Characteristic Curve **"
   ]
  },
  {
   "cell_type": "code",
   "execution_count": 9,
   "metadata": {},
   "outputs": [
    {
     "name": "stdout",
     "output_type": "stream",
     "text": [
      " Area Under the Receiver Operating Characteristic Curve:  0.8886795019524998\n"
     ]
    }
   ],
   "source": [
    "# Calculate the fpr and tpr for all thresholds of the classification\n",
    "fpr, tpr, thresholds = metrics.roc_curve(df['class'],df['predicted_prob'])\n",
    "roc_auc = metrics.auc(fpr, tpr)\n",
    "print(' Area Under the Receiver Operating Characteristic Curve: ', roc_auc)"
   ]
  },
  {
   "cell_type": "markdown",
   "metadata": {},
   "source": [
    "** Let's manualy double check **"
   ]
  },
  {
   "cell_type": "code",
   "execution_count": 10,
   "metadata": {},
   "outputs": [
    {
     "data": {
      "text/html": [
       "<div>\n",
       "<style scoped>\n",
       "    .dataframe tbody tr th:only-of-type {\n",
       "        vertical-align: middle;\n",
       "    }\n",
       "\n",
       "    .dataframe tbody tr th {\n",
       "        vertical-align: top;\n",
       "    }\n",
       "\n",
       "    .dataframe thead th {\n",
       "        text-align: right;\n",
       "    }\n",
       "</style>\n",
       "<table border=\"1\" class=\"dataframe\">\n",
       "  <thead>\n",
       "    <tr style=\"text-align: right;\">\n",
       "      <th></th>\n",
       "      <th>index</th>\n",
       "      <th>class</th>\n",
       "      <th>predicted_prob</th>\n",
       "    </tr>\n",
       "  </thead>\n",
       "  <tbody>\n",
       "    <tr>\n",
       "      <th>704</th>\n",
       "      <td>705</td>\n",
       "      <td>1</td>\n",
       "      <td>0.994258</td>\n",
       "    </tr>\n",
       "    <tr>\n",
       "      <th>137</th>\n",
       "      <td>138</td>\n",
       "      <td>1</td>\n",
       "      <td>0.993762</td>\n",
       "    </tr>\n",
       "    <tr>\n",
       "      <th>629</th>\n",
       "      <td>630</td>\n",
       "      <td>1</td>\n",
       "      <td>0.993762</td>\n",
       "    </tr>\n",
       "  </tbody>\n",
       "</table>\n",
       "</div>"
      ],
      "text/plain": [
       "     index  class  predicted_prob\n",
       "704    705      1        0.994258\n",
       "137    138      1        0.993762\n",
       "629    630      1        0.993762"
      ]
     },
     "execution_count": 10,
     "metadata": {},
     "output_type": "execute_result"
    }
   ],
   "source": [
    "# Sort the dataframe by predicted_prob\n",
    "# Again, this is computanionally more expensive, but it's just for double checking purposes\n",
    "\n",
    "df_sorted = df.sort_values(['predicted_prob'], ascending = False)\n",
    "df_sorted.head(3)"
   ]
  },
  {
   "cell_type": "code",
   "execution_count": 11,
   "metadata": {},
   "outputs": [
    {
     "name": "stdout",
     "output_type": "stream",
     "text": [
      "auc_doublecheck:  0.8886795019525054\n"
     ]
    }
   ],
   "source": [
    "auc_doublecheck = 0.0\n",
    "height = 0.0\n",
    "\n",
    "# pos = total number of true positives\n",
    "# neg = total number of true negatives\n",
    "\n",
    "pos = sum(df['class'])\n",
    "neg = df.shape[0] - pos\n",
    "\n",
    "for index, row in df_sorted.iterrows():\n",
    "  if row['class'] == 1:\n",
    "    height += 1/pos\n",
    "  else:\n",
    "    auc_doublecheck += height * 1/neg\n",
    "\n",
    "print('auc_doublecheck: ',auc_doublecheck)"
   ]
  },
  {
   "cell_type": "markdown",
   "metadata": {},
   "source": [
    "** 3. Visualize the Receiver Operating Characterstic Curve. **"
   ]
  },
  {
   "cell_type": "code",
   "execution_count": 12,
   "metadata": {},
   "outputs": [
    {
     "data": {
      "image/png": "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\n",
      "text/plain": [
       "<matplotlib.figure.Figure at 0x1a13804470>"
      ]
     },
     "metadata": {},
     "output_type": "display_data"
    }
   ],
   "source": [
    "plt.title('Receiver Operating Characteristic')\n",
    "plt.plot(fpr, tpr, 'b', label = 'AUC = %0.3f' % roc_auc)\n",
    "plt.legend(loc = 'lower right')\n",
    "plt.plot([0, 1], [0, 1],'r--')\n",
    "plt.xlim([0, 1])\n",
    "plt.ylim([0, 1])\n",
    "plt.ylabel('True Positive Rate')\n",
    "plt.xlabel('False Positive Rate')\n",
    "plt.show()"
   ]
  },
  {
   "cell_type": "markdown",
   "metadata": {},
   "source": [
    "** Thanks for watching! **"
   ]
  },
 ],
 "metadata": {
  "kernelspec": {
   "display_name": "Python 3",
   "language": "python",
   "name": "python3"
  },
  "language_info": {
   "codemirror_mode": {
    "name": "ipython",
    "version": 3
   },
   "file_extension": ".py",
   "mimetype": "text/x-python",
   "name": "python",
   "nbconvert_exporter": "python",
   "pygments_lexer": "ipython3",
   "version": "3.6.4"
  }
 },
 "nbformat": 4,
 "nbformat_minor": 2
}
